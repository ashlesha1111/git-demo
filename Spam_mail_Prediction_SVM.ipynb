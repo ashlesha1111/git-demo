{
  "nbformat": 4,
  "nbformat_minor": 0,
  "metadata": {
    "colab": {
      "provenance": [],
      "include_colab_link": true
    },
    "kernelspec": {
      "name": "python3",
      "display_name": "Python 3"
    },
    "language_info": {
      "name": "python"
    }
  },
  "cells": [
    {
      "cell_type": "markdown",
      "metadata": {
        "id": "view-in-github",
        "colab_type": "text"
      },
      "source": [
        "<a href=\"https://colab.research.google.com/github/ashlesha1111/git-demo/blob/main/Spam_mail_Prediction_SVM.ipynb\" target=\"_parent\"><img src=\"https://colab.research.google.com/assets/colab-badge.svg\" alt=\"Open In Colab\"/></a>"
      ]
    },
    {
      "cell_type": "markdown",
      "source": [
        "Import Libraries"
      ],
      "metadata": {
        "id": "l5HY0MwrLQdd"
      }
    },
    {
      "cell_type": "code",
      "execution_count": null,
      "metadata": {
        "id": "JfXV85WxKj5t"
      },
      "outputs": [],
      "source": [
        "import numpy as np\n",
        "import pandas as pd\n",
        "from sklearn.model_selection import train_test_split\n",
        "from sklearn.feature_extraction.text import TfidfVectorizer\n",
        "from sklearn.svm import LinearSVC\n",
        "from sklearn.metrics import accuracy_score"
      ]
    },
    {
      "cell_type": "markdown",
      "source": [
        "Data Preprocessing"
      ],
      "metadata": {
        "id": "kccauIoMMcbp"
      }
    },
    {
      "cell_type": "code",
      "source": [
        "#load the dataset to pandas Data Frame\n",
        "raw_mail_data=pd.read_csv('spam.csv', encoding_errors='ignore')\n",
        "#replace the null values with a null string\n",
        "mail_data = raw_mail_data.where((pd.notnull(raw_mail_data)), '')\n"
      ],
      "metadata": {
        "id": "zCHdAPn4SoTf"
      },
      "execution_count": null,
      "outputs": []
    },
    {
      "cell_type": "code",
      "source": [
        "mail_data.shape\n",
        "\n"
      ],
      "metadata": {
        "id": "RfPsUV2LQyng"
      },
      "execution_count": null,
      "outputs": []
    },
    {
      "cell_type": "code",
      "source": [
        "mail_data.head() # sample data"
      ],
      "metadata": {
        "id": "cWOBWr8eU4xK"
      },
      "execution_count": null,
      "outputs": []
    },
    {
      "cell_type": "code",
      "source": [
        "# label spam mail as 0 and non spam mail as 1\n",
        "mail_data.loc[mail_data['v1']=='spam', 'v1',]=0\n",
        "mail_data.loc[mail_data['v1']=='ham','v1',]=1"
      ],
      "metadata": {
        "id": "eAPe6S-2VBkN"
      },
      "execution_count": null,
      "outputs": []
    },
    {
      "cell_type": "code",
      "source": [
        "#separate the data as text and label X -->text , Y --> label\n",
        "X = mail_data['v2']\n",
        "Y = mail_data['v1']"
      ],
      "metadata": {
        "id": "JT3uvz-7Vxex"
      },
      "execution_count": null,
      "outputs": []
    },
    {
      "cell_type": "code",
      "source": [
        "print(X)\n",
        "print('-------------------------------')\n",
        "print(Y)"
      ],
      "metadata": {
        "id": "8UBuzarJWGHG"
      },
      "execution_count": null,
      "outputs": []
    },
    {
      "cell_type": "markdown",
      "source": [
        "Train Test Split"
      ],
      "metadata": {
        "id": "vUMO8peuWSRg"
      }
    },
    {
      "cell_type": "code",
      "source": [
        "# split the data as train data and test data\n",
        "X_train, X_test, Y_train, Y_test = train_test_split(X,Y,train_size=0.8, test_size=0.2,random_state=3)"
      ],
      "metadata": {
        "id": "b8t8IGkZWRzX"
      },
      "execution_count": null,
      "outputs": []
    },
    {
      "cell_type": "markdown",
      "source": [
        "Feature Extraction"
      ],
      "metadata": {
        "id": "bAbnO7S3W0Dc"
      }
    },
    {
      "cell_type": "code",
      "source": [
        "# tarnsform the test data to feature vectors that can be used as input to the split model using TfidfVectorizer\n",
        "# convert the text to lower case letters\n",
        "feature_extraction = TfidfVectorizer(min_df=1,stop_words='english',lowercase=1)\n",
        "X_train_features = feature_extraction.fit_transform(X_train)\n",
        "X_test_features = feature_extraction.transform(X_test)\n",
        "\n",
        "# convert Y_train and Y_test values as integers\n",
        "Y_train = Y_train.astype('int')\n",
        "Y_test = Y_test.astype('int')"
      ],
      "metadata": {
        "id": "zgqPjI9VW2kE"
      },
      "execution_count": null,
      "outputs": []
    },
    {
      "cell_type": "markdown",
      "source": [
        "Training the model --> **Support Vector Machine**"
      ],
      "metadata": {
        "id": "PAJLPP78YuK6"
      }
    },
    {
      "cell_type": "code",
      "source": [
        "# training the support vector machine model with tarining data\n",
        "model = LinearSVC()\n",
        "model.fit(X_train_features, Y_train)"
      ],
      "metadata": {
        "id": "mY_Jfzx1aJjb"
      },
      "execution_count": null,
      "outputs": []
    },
    {
      "cell_type": "markdown",
      "source": [
        "Evaluation of the model"
      ],
      "metadata": {
        "id": "rcWkHdjmbHAc"
      }
    },
    {
      "cell_type": "code",
      "source": [
        "# prediction on tarining data\n",
        "prediction_on_training_data = model.predict(X_train_features)\n",
        "accuracy_on_training_data = accuracy_score(Y_train, prediction_on_training_data)"
      ],
      "metadata": {
        "id": "miEtCb3sbFS9"
      },
      "execution_count": null,
      "outputs": []
    },
    {
      "cell_type": "code",
      "source": [
        "print('Accuracy on training data : ', accuracy_on_training_data)"
      ],
      "metadata": {
        "colab": {
          "base_uri": "https://localhost:8080/"
        },
        "id": "DPZfJuC4bl63",
        "outputId": "322d6ced-5b44-49bb-aa24-42eaa6f5f152"
      },
      "execution_count": null,
      "outputs": [
        {
          "output_type": "stream",
          "name": "stdout",
          "text": [
            "Accuracy on training data :  0.9995512676688355\n"
          ]
        }
      ]
    },
    {
      "cell_type": "code",
      "source": [
        "# prediction on test data\n",
        "prediction_on_test_data = model.predict(X_test_features)\n",
        "accuracy_on_test_data = accuracy_score(Y_test, prediction_on_test_data)"
      ],
      "metadata": {
        "id": "wrQWGl6PbxZU"
      },
      "execution_count": null,
      "outputs": []
    },
    {
      "cell_type": "code",
      "source": [
        "print('Accuracy on test data : ', accuracy_on_test_data)"
      ],
      "metadata": {
        "id": "KRrHupWpb7Ji"
      },
      "execution_count": null,
      "outputs": []
    },
    {
      "cell_type": "markdown",
      "source": [
        "Prediction on new mail"
      ],
      "metadata": {
        "id": "txrhG56dcHqp"
      }
    },
    {
      "cell_type": "code",
      "source": [
        "input_mail=[\"I HAVE A DATE ON SUNDAY WITH WILL!!\"]\n",
        "# convert text to feature vectors\n",
        "input_mail_features = feature_extraction.transform(input_mail)\n",
        "\n",
        "#making prediction\n",
        "prediction = model.predict(input_mail_features)\n",
        "print(prediction)\n",
        "\n",
        "if(prediction[0]==1):\n",
        "  print(\"Ham mail\")\n",
        "else:\n",
        "  print(\"Spam mail\")"
      ],
      "metadata": {
        "id": "xDEeEEMicAVZ"
      },
      "execution_count": null,
      "outputs": []
    }
  ]
}