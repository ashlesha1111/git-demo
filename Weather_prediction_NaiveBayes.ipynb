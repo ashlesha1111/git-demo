{
  "nbformat": 4,
  "nbformat_minor": 0,
  "metadata": {
    "colab": {
      "provenance": [],
      "include_colab_link": true
    },
    "kernelspec": {
      "name": "python3",
      "display_name": "Python 3"
    },
    "language_info": {
      "name": "python"
    }
  },
  "cells": [
    {
      "cell_type": "markdown",
      "metadata": {
        "id": "view-in-github",
        "colab_type": "text"
      },
      "source": [
        "<a href=\"https://colab.research.google.com/github/ashlesha1111/git-demo/blob/main/Weather_prediction_NaiveBayes.ipynb\" target=\"_parent\"><img src=\"https://colab.research.google.com/assets/colab-badge.svg\" alt=\"Open In Colab\"/></a>"
      ]
    },
    {
      "cell_type": "code",
      "execution_count": null,
      "metadata": {
        "id": "UdwW-OZzHZ1z"
      },
      "outputs": [],
      "source": [
        "# NaiveBaes project\n",
        "# Required Modules\n",
        "import pandas as pd\n",
        "from sklearn.preprocessing import LabelEncoder\n",
        "from sklearn.naive_bayes import GaussianNB\n"
      ]
    },
    {
      "cell_type": "code",
      "source": [
        "# Reading csv files\n",
        "df = pd.read_csv(\"tennis.csv\")\n",
        "df"
      ],
      "metadata": {
        "id": "EgyvNVwKIUNW"
      },
      "execution_count": null,
      "outputs": []
    },
    {
      "cell_type": "code",
      "source": [
        "#Encoding the strings to numericals\n",
        "numerics = LabelEncoder()"
      ],
      "metadata": {
        "id": "CDOBOEyHKzIW"
      },
      "execution_count": null,
      "outputs": []
    },
    {
      "cell_type": "code",
      "source": [
        "#Dropping the target variable and make it as newframe\n",
        "inputs = df.drop('play',axis='columns')\n",
        "target = df['play']\n",
        "target\n"
      ],
      "metadata": {
        "id": "GERVc2XbLrDC"
      },
      "execution_count": null,
      "outputs": []
    },
    {
      "cell_type": "code",
      "source": [
        "outlook_at = LabelEncoder()"
      ],
      "metadata": {
        "id": "n3mYelUKOiyr"
      },
      "execution_count": null,
      "outputs": []
    },
    {
      "cell_type": "code",
      "source": [
        "#Creating new dataframe\n",
        "inputs['outlook_n'] = outlook_at.fit_transform(inputs['outlook'])\n",
        "inputs['temp_n'] = outlook_at.fit_transform(inputs['temp'])\n",
        "inputs['Hum_n'] = outlook_at.fit_transform(inputs['humidity'])\n",
        "inputs['win_n'] = outlook_at.fit_transform(inputs['windy'])\n",
        "inputs"
      ],
      "metadata": {
        "id": "AWwYpYtvMhn9"
      },
      "execution_count": null,
      "outputs": []
    },
    {
      "cell_type": "code",
      "source": [
        "#Droping the string values\n",
        "inputs_n = inputs.drop(['outlook', 'temp', 'humidity', 'windy'],axis = 'columns')\n",
        "inputs_n"
      ],
      "metadata": {
        "id": "h4NiSA2LOxHW"
      },
      "execution_count": null,
      "outputs": []
    },
    {
      "cell_type": "code",
      "source": [
        "#Applying the Gaussian naivebayes\n",
        "classifier = GaussianNB()\n",
        "classifier.fit(inputs_n,target)\n",
        "GaussianNB()"
      ],
      "metadata": {
        "id": "stNqR75mP3bO"
      },
      "execution_count": null,
      "outputs": []
    },
    {
      "cell_type": "code",
      "source": [
        "#Accuracy\n",
        "classifier.score(inputs_n,target)"
      ],
      "metadata": {
        "id": "6fbLiyuYQKiQ"
      },
      "execution_count": null,
      "outputs": []
    },
    {
      "cell_type": "code",
      "source": [
        "#Prediction\n",
        "classifier.predict([[0,0,0,1]])"
      ],
      "metadata": {
        "id": "ve70RDC1QT_C"
      },
      "execution_count": null,
      "outputs": []
    }
  ]
}